{
  "nbformat": 4,
  "nbformat_minor": 0,
  "metadata": {
    "colab": {
      "provenance": []
    },
    "kernelspec": {
      "name": "python3",
      "display_name": "Python 3"
    },
    "language_info": {
      "name": "python"
    }
  },
  "cells": [
    {
      "cell_type": "code",
      "execution_count": 6,
      "metadata": {
        "colab": {
          "base_uri": "https://localhost:8080/"
        },
        "id": "gdteSpuJbr3z",
        "outputId": "34dfc32c-57bb-4cb0-a735-05b499b36e16"
      },
      "outputs": [
        {
          "output_type": "stream",
          "name": "stdout",
          "text": [
            "請輸入您的身高和體重\n",
            "1.7\n",
            "58\n",
            "您的BMI是:20.06920415224914\n"
          ]
        }
      ],
      "source": [
        "print(\"請輸入您的身高(公尺)和體重(公斤)\")\n",
        "m = float(input())\n",
        "kg = float(input())\n",
        "print(\"您的BMI是\",end=\":\")\n",
        "print(kg/(m**2))\n"
      ]
    }
  ]
}